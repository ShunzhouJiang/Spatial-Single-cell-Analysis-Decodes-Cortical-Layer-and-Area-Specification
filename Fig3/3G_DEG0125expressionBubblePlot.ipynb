{
 "cells": [
  {
   "cell_type": "code",
   "execution_count": 160,
   "metadata": {},
   "outputs": [],
   "source": [
    "import scanpy as sc\n",
    "import matplotlib.pyplot as plt\n",
    "import numpy as np\n",
    "import pandas as pd\n",
    "from scipy.sparse import spmatrix"
   ]
  },
  {
   "cell_type": "code",
   "execution_count": 1,
   "metadata": {},
   "outputs": [
    {
     "ename": "NameError",
     "evalue": "name 'sc' is not defined",
     "output_type": "error",
     "traceback": [
      "\u001b[0;31m---------------------------------------------------------------------------\u001b[0m",
      "\u001b[0;31mNameError\u001b[0m                                 Traceback (most recent call last)",
      "\u001b[1;32m/Users/cyluo/Desktop/XuyuMerscope/Fig4C DEGanalysis/DEG0125expressionBubblePlot.ipynb Cell 2\u001b[0m line \u001b[0;36m1\n\u001b[0;32m----> <a href='vscode-notebook-cell:/Users/cyluo/Desktop/XuyuMerscope/Fig4C%20DEGanalysis/DEG0125expressionBubblePlot.ipynb#W1sZmlsZQ%3D%3D?line=0'>1</a>\u001b[0m adata_norm_exp \u001b[39m=\u001b[39m sc\u001b[39m.\u001b[39mread_h5ad(\u001b[39m\"\u001b[39m\u001b[39mnorm_exp.h5ad\u001b[39m\u001b[39m\"\u001b[39m)\n\u001b[1;32m      <a href='vscode-notebook-cell:/Users/cyluo/Desktop/XuyuMerscope/Fig4C%20DEGanalysis/DEG0125expressionBubblePlot.ipynb#W1sZmlsZQ%3D%3D?line=1'>2</a>\u001b[0m \u001b[39mprint\u001b[39m(adata_norm_exp)\n",
      "\u001b[0;31mNameError\u001b[0m: name 'sc' is not defined"
     ]
    }
   ],
   "source": [
    "adata = sc.read_h5ad(\"merscope_855_notscaled.h5ad\")\n",
    "print(adata)"
   ]
  },
  {
   "cell_type": "code",
   "execution_count": 180,
   "metadata": {},
   "outputs": [
    {
     "name": "stdout",
     "output_type": "stream",
     "text": [
      "AnnData object with n_obs × n_vars = 15927370 × 300\n",
      "    obs: 'sample', 'H1_annotation', 'H2_annotation', 'H3_annotation'\n",
      "    obsm: 'X_pca', 'X_spatial'\n"
     ]
    }
   ],
   "source": [
    "adata_scaled = sc.read_h5ad(\"merscope_855.h5ad\")\n",
    "print(adata_scaled)"
   ]
  },
  {
   "cell_type": "code",
   "execution_count": 181,
   "metadata": {},
   "outputs": [
    {
     "name": "stdout",
     "output_type": "stream",
     "text": [
      "2241155200012100016      EN-IT-L3-V1\n",
      "2241155200012100018      EN-IT-L3-V1\n",
      "2241155200012100021          EN-IZ-3\n",
      "2241155200012100028    EN-IT-L2/3-A2\n",
      "2241155200012100030       EN-IT-L3-A\n",
      "Name: H3_annotation, dtype: category\n",
      "Categories (114, object): ['Astro-1', 'Astro-2', 'Astro-early', 'Astro-late1', ..., 'vRG-early2', 'vRG-late1', 'vRG-late2', 'vRG-late3']\n"
     ]
    }
   ],
   "source": [
    "adata.obs.index = adata.obs.index.map(lambda x: x.split('-')[0])\n",
    "adata.obs['H3_annotation'] = adata_scaled.obs['H3_annotation']\n",
    "print(adata.obs['H3_annotation'].head())"
   ]
  },
  {
   "cell_type": "code",
   "execution_count": 262,
   "metadata": {},
   "outputs": [
    {
     "name": "stderr",
     "output_type": "stream",
     "text": [
      "/Users/cyluo/anaconda3/envs/xuyuEnv/lib/python3.9/site-packages/anndata/_core/anndata.py:1897: UserWarning: Observation names are not unique. To make them unique, call `.obs_names_make_unique`.\n",
      "  utils.warn_names_duplicates(\"obs\")\n",
      "/Users/cyluo/anaconda3/envs/xuyuEnv/lib/python3.9/site-packages/anndata/_core/anndata.py:1897: UserWarning: Observation names are not unique. To make them unique, call `.obs_names_make_unique`.\n",
      "  utils.warn_names_duplicates(\"obs\")\n"
     ]
    }
   ],
   "source": [
    "clusters_of_interest = ['EN-ET-SP-A', 'EN-ET-SP-P1']\n",
    "#clusters_of_interest = ['EN-ET-SP-A', 'EN-ET-SP-P1']\n",
    "adata_subset = adata[adata.obs['H3_annotation'] == clusters_of_interest[0]].copy()\n",
    "adata_subset2 = adata[adata.obs['H3_annotation']== clusters_of_interest[1]].copy()"
   ]
  },
  {
   "cell_type": "code",
   "execution_count": 263,
   "metadata": {},
   "outputs": [
    {
     "name": "stdout",
     "output_type": "stream",
     "text": [
      "AnnData object with n_obs × n_vars = 91381 × 300\n",
      "    obs: 'n_counts', 'sample', 'region', 'gw', 'H3_annotation'\n",
      "    uns: 'rank_genes_groups'\n",
      "    obsm: 'spatial'\n"
     ]
    }
   ],
   "source": [
    "print(adata_subset)"
   ]
  },
  {
   "cell_type": "code",
   "execution_count": 264,
   "metadata": {},
   "outputs": [],
   "source": [
    "dense_X = adata_subset.X.toarray()\n",
    "mean_expression = np.mean(dense_X, axis=0)\n",
    "\n",
    "dense_X2 = adata_subset2.X.toarray()\n",
    "mean_expression2 = np.mean(dense_X2, axis=0)"
   ]
  },
  {
   "cell_type": "code",
   "execution_count": 265,
   "metadata": {},
   "outputs": [],
   "source": [
    "expression_threshold = 0  \n",
    "expressed_genes_mask = dense_X > expression_threshold\n",
    "num_cells_expressing = np.sum(expressed_genes_mask, axis=0)\n",
    "\n",
    "expressed_genes_mask2 = dense_X2 > expression_threshold\n",
    "num_cells_expressing2 = np.sum(expressed_genes_mask2, axis=0)\n",
    "\n",
    "genes_expressed_per_cell = np.sum(expressed_genes_mask, axis=1)\n",
    "total_expressed_cells = np.sum(genes_expressed_per_cell > 0)\n",
    "percent_expressed = num_cells_expressing / total_expressed_cells * 100\n",
    "\n",
    "genes_expressed_per_cell2 = np.sum(expressed_genes_mask2, axis=1)\n",
    "total_expressed_cells2 = np.sum(genes_expressed_per_cell2 > 0)\n",
    "percent_expressed2 = num_cells_expressing2 / total_expressed_cells2 * 100"
   ]
  },
  {
   "cell_type": "code",
   "execution_count": 266,
   "metadata": {},
   "outputs": [],
   "source": [
    "gene_names = adata_subset.var_names\n",
    "mean_expression_per_gene = pd.Series(mean_expression, index=gene_names)\n",
    "percent_expressed_per_gene = pd.Series(percent_expressed, index=gene_names)\n",
    "percent_expressed_per_gene = percent_expressed_per_gene.to_frame(name='expressed cells (%)')\n",
    "\n",
    "gene_names2 = adata_subset2.var_names\n",
    "mean_expression_per_gene2 = pd.Series(mean_expression2, index=gene_names)\n",
    "percent_expressed_per_gene2 = pd.Series(percent_expressed2, index=gene_names)\n",
    "percent_expressed_per_gene2 = percent_expressed_per_gene2.to_frame(name='expressed cells (%)')"
   ]
  },
  {
   "cell_type": "code",
   "execution_count": 267,
   "metadata": {},
   "outputs": [
    {
     "name": "stdout",
     "output_type": "stream",
     "text": [
      "HS3ST1      0.023180\n",
      "CD9         0.009612\n",
      "CBLN4       0.028334\n",
      "CA12        0.056644\n",
      "LGALS1      0.009583\n",
      "              ...   \n",
      "SORCS1      0.337071\n",
      "ANGPT2      0.012900\n",
      "PAX6        0.016420\n",
      "POU3F4      0.009900\n",
      "NIPBL-DT    0.199339\n",
      "Length: 300, dtype: float32\n",
      "          expressed cells (%)\n",
      "HS3ST1               5.456276\n",
      "CD9                  2.266335\n",
      "CBLN4                6.213545\n",
      "CA12                12.737878\n",
      "LGALS1               2.246638\n",
      "...                       ...\n",
      "SORCS1              47.616025\n",
      "ANGPT2               3.112244\n",
      "PAX6                 3.873891\n",
      "POU3F4               2.248826\n",
      "NIPBL-DT            37.877677\n",
      "\n",
      "[300 rows x 1 columns]\n"
     ]
    }
   ],
   "source": [
    "print(mean_expression_per_gene)\n",
    "print(percent_expressed_per_gene)"
   ]
  },
  {
   "cell_type": "code",
   "execution_count": 286,
   "metadata": {},
   "outputs": [
    {
     "name": "stdout",
     "output_type": "stream",
     "text": [
      "     Unnamed: 0       gene  log_fold_change  pvals  pvals_adj  -log10_pval\n",
      "0             0     HCRTR2         5.094426    0.0        0.0          inf\n",
      "1             1      NR4A2         4.886286    0.0        0.0          inf\n",
      "2             2       MLIP         2.690638    0.0        0.0          inf\n",
      "3             3    CYP26A1         2.426295    0.0        0.0          inf\n",
      "6             6       ST18         2.421855    0.0        0.0          inf\n",
      "10           10     STK32B         2.420835    0.0        0.0          inf\n",
      "12           12      UNC5C         2.203939    0.0        0.0          inf\n",
      "21           21    SLC26A4         2.147651    0.0        0.0          inf\n",
      "4             4     ADRA2A         2.114066    0.0        0.0          inf\n",
      "7             7       NPR3         1.720079    0.0        0.0          inf\n",
      "5             5      SATB2         1.553550    0.0        0.0          inf\n",
      "8             8     GABRA5         1.533800    0.0        0.0          inf\n",
      "15           15       CCN2         1.528601    0.0        0.0          inf\n",
      "19           19    COL19A1         1.427640    0.0        0.0          inf\n",
      "13           13      NR2F1         1.186325    0.0        0.0          inf\n",
      "18           18      KCNJ6         0.965884    0.0        0.0          inf\n",
      "24           24  NR2F1-AS1         0.945990    0.0        0.0          inf\n",
      "14           14      GLRA2         0.944559    0.0        0.0          inf\n",
      "16           16     PCDH17         0.863448    0.0        0.0          inf\n",
      "9             9      CALN1         0.857750    0.0        0.0          inf\n",
      "293         293       SYT6        -1.426311    0.0        0.0          inf\n",
      "251         251   ADAMTSL3        -1.435088    0.0        0.0          inf\n",
      "275         275     KIF26B        -1.462117    0.0        0.0          inf\n",
      "278         278       RGS6        -1.471126    0.0        0.0          inf\n",
      "252         252     HS3ST1        -1.471762    0.0        0.0          inf\n",
      "281         281      SMOC1        -1.627289    0.0        0.0          inf\n",
      "284         284     ELOVL2        -1.690244    0.0        0.0          inf\n",
      "238         238       CCN1        -1.726103    0.0        0.0          inf\n",
      "274         274    SLC35F2        -1.758888    0.0        0.0          inf\n",
      "258         258       LRP4        -1.819076    0.0        0.0          inf\n",
      "297         297     SORCS1        -1.824847    0.0        0.0          inf\n",
      "240         240       LGR6        -1.851079    0.0        0.0          inf\n",
      "291         291      KCNQ5        -1.915842    0.0        0.0          inf\n",
      "287         287        LPL        -2.005063    0.0        0.0          inf\n",
      "294         294      VAT1L        -2.010181    0.0        0.0          inf\n",
      "267         267       NPNT        -2.043511    0.0        0.0          inf\n",
      "280         280      GRIK4        -2.259497    0.0        0.0          inf\n",
      "298         298      FOXP2        -3.176233    0.0        0.0          inf\n",
      "299         299     SEMA3E        -3.656238    0.0        0.0          inf\n",
      "296         296      KCNH5        -3.843166    0.0        0.0          inf\n"
     ]
    }
   ],
   "source": [
    "de_df = pd.read_csv('gene_output5.csv')\n",
    "# Sort by log fold change\n",
    "sorted_de_df = de_df.sort_values(by=['log_fold_change', '-log10_pval'], ascending=[False, False])\n",
    "# Select top 10/20 and bottom 10/20 genes\n",
    "N = 20\n",
    "top_genes = sorted_de_df.head(N)\n",
    "bottom_genes = sorted_de_df.tail(N)\n",
    "# Combine top and bottom genes\n",
    "selected_genes = pd.concat([top_genes, bottom_genes])\n",
    "print(selected_genes)"
   ]
  },
  {
   "cell_type": "code",
   "execution_count": 287,
   "metadata": {},
   "outputs": [],
   "source": [
    "# Assuming mean_expression_per_gene is a pandas Series and selected_genes is a pandas DataFrame\n",
    "selected_gene_names = selected_genes['gene']\n",
    "filtered_mean_expression = mean_expression_per_gene[mean_expression_per_gene.index.isin(selected_gene_names)]\n",
    "filtered_mean_expression2 = mean_expression_per_gene2[mean_expression_per_gene2.index.isin(selected_gene_names)]\n",
    "filtered_percent_expressed_per_gene = percent_expressed_per_gene[percent_expressed_per_gene.index.isin(selected_gene_names)]\n",
    "filtered_percent_expressed_per_gene2 = percent_expressed_per_gene2[percent_expressed_per_gene2.index.isin(selected_gene_names)]"
   ]
  },
  {
   "cell_type": "code",
   "execution_count": 288,
   "metadata": {},
   "outputs": [
    {
     "name": "stdout",
     "output_type": "stream",
     "text": [
      "         mean expression\n",
      "HS3ST1          0.023180\n",
      "GLRA2           0.323478\n",
      "CYP26A1         0.673407\n",
      "LGR6            0.008685\n",
      "ST18            0.335150\n",
      "         mean expression\n",
      "HS3ST1          0.063015\n",
      "GLRA2           0.181025\n",
      "CYP26A1         0.164469\n",
      "LGR6            0.030985\n",
      "ST18            0.071672\n"
     ]
    }
   ],
   "source": [
    "df_mean_expression = filtered_mean_expression.to_frame(name='mean expression')\n",
    "print(df_mean_expression.head())\n",
    "\n",
    "df_mean_expression2 = filtered_mean_expression2.to_frame(name='mean expression')\n",
    "print(df_mean_expression2.head())"
   ]
  },
  {
   "cell_type": "code",
   "execution_count": 289,
   "metadata": {},
   "outputs": [
    {
     "name": "stdout",
     "output_type": "stream",
     "text": [
      "           mean expression  expressed cells (%)\n",
      "HS3ST1            0.023180             5.456276\n",
      "GLRA2             0.323478            50.916492\n",
      "CYP26A1           0.673407            76.546547\n",
      "LGR6              0.008685             2.060603\n",
      "ST18              0.335150            51.879494\n",
      "ADRA2A            0.666940            74.267080\n",
      "STK32B            0.115034            23.180968\n",
      "ADAMTSL3          0.023853             5.564614\n",
      "VAT1L             0.086918            17.228964\n",
      "KCNH5             0.016095             3.779779\n",
      "NPR3              0.318118            48.576838\n",
      "NR2F1             0.216569            39.175540\n",
      "NR4A2             1.420112            95.502347\n",
      "ELOVL2            0.077923            16.599731\n",
      "KIF26B            0.082806            15.604994\n",
      "CCN2              0.184081            29.275232\n",
      "KCNQ5             0.073841            15.954082\n",
      "HCRTR2            0.719916            99.348880\n",
      "PCDH17            0.367110            52.571103\n",
      "LRP4              0.021096             4.901457\n",
      "SMOC1             0.091901            18.027818\n",
      "FOXP2             0.062269            13.205152\n",
      "GABRA5            0.324419            51.031396\n",
      "RGS6              0.087321            17.231153\n",
      "CALN1             0.539749            69.830709\n",
      "SEMA3E            0.070988            13.970081\n",
      "CCN1              0.010391             2.432672\n",
      "SLC26A4           0.034879             8.053096\n",
      "MLIP              0.602727            76.952539\n",
      "NPNT              0.019967             4.648669\n",
      "LPL               0.059744            12.668936\n",
      "SLC35F2           0.044227             9.718650\n",
      "GRIK4             0.031833             7.354921\n",
      "NR2F1-AS1         0.050431            11.665445\n",
      "SYT6              0.194792            35.029164\n",
      "KCNJ6             0.161767            30.732866\n",
      "UNC5C             0.099511            20.335737\n",
      "SATB2             1.078556            89.094013\n",
      "COL19A1           0.080726            16.796708\n",
      "SORCS1            0.337071            47.616025\n"
     ]
    }
   ],
   "source": [
    "combined_df_cluster1 = df_mean_expression.join(filtered_percent_expressed_per_gene, how='inner')\n",
    "combined_df_cluster2 = df_mean_expression2.join(filtered_percent_expressed_per_gene2, how='inner')\n",
    "print(combined_df_cluster1)"
   ]
  },
  {
   "cell_type": "code",
   "execution_count": 290,
   "metadata": {},
   "outputs": [],
   "source": [
    "combined_df_cluster1['cluster'] = clusters_of_interest[0]\n",
    "combined_df_cluster2['cluster'] = clusters_of_interest[1]"
   ]
  },
  {
   "cell_type": "code",
   "execution_count": 291,
   "metadata": {},
   "outputs": [
    {
     "name": "stdout",
     "output_type": "stream",
     "text": [
      "<bound method NDFrame.head of            mean expression  expressed cells (%)      cluster\n",
      "HS3ST1            0.063015            14.614021  EN-ET-SP-P1\n",
      "GLRA2             0.181025            34.614836  EN-ET-SP-P1\n",
      "CYP26A1           0.164469            32.805656  EN-ET-SP-P1\n",
      "LGR6              0.030985             7.629933  EN-ET-SP-P1\n",
      "ST18              0.071672            16.162419  EN-ET-SP-P1\n",
      "ADRA2A            0.198067            32.884094  EN-ET-SP-P1\n",
      "STK32B            0.022511             5.494774  EN-ET-SP-P1\n",
      "ADAMTSL3          0.063232            15.081596  EN-ET-SP-P1\n",
      "VAT1L             0.311741            51.686938  EN-ET-SP-P1\n",
      "KCNH5             0.209332            37.247112  EN-ET-SP-P1\n",
      "NPR3              0.107674            23.184198  EN-ET-SP-P1\n",
      "NR2F1             0.100981            22.383514  EN-ET-SP-P1\n",
      "NR4A2             0.100834            17.916590  EN-ET-SP-P1\n",
      "ELOVL2            0.232318            44.741560  EN-ET-SP-P1\n",
      "KIF26B            0.213378            39.010452  EN-ET-SP-P1\n",
      "CCN2              0.067710            14.856468  EN-ET-SP-P1\n",
      "KCNQ5             0.254002            46.883850  EN-ET-SP-P1\n",
      "HCRTR2            0.030391             7.682904  EN-ET-SP-P1\n",
      "PCDH17            0.218169            37.904162  EN-ET-SP-P1\n",
      "LRP4              0.072532            15.352566  EN-ET-SP-P1\n",
      "SMOC1             0.260335            45.543263  EN-ET-SP-P1\n",
      "FOXP2             0.457907            67.803516  EN-ET-SP-P1\n",
      "GABRA5            0.124300            25.614775  EN-ET-SP-P1\n",
      "RGS6              0.225516            41.241367  EN-ET-SP-P1\n",
      "CALN1             0.332799            54.361999  EN-ET-SP-P1\n",
      "SEMA3E            0.656236            79.184239  EN-ET-SP-P1\n",
      "CCN1              0.033972             8.368478  EN-ET-SP-P1\n",
      "SLC26A4           0.007978             2.104598  EN-ET-SP-P1\n",
      "MLIP              0.120544            25.734980  EN-ET-SP-P1\n",
      "NPNT              0.079866            18.415745  EN-ET-SP-P1\n",
      "LPL               0.220841            40.739156  EN-ET-SP-P1\n",
      "SLC35F2           0.142403            30.184585  EN-ET-SP-P1\n",
      "GRIK4             0.143993            31.003606  EN-ET-SP-P1\n",
      "NR2F1-AS1         0.026494             6.960658  EN-ET-SP-P1\n",
      "SYT6              0.456142            65.974981  EN-ET-SP-P1\n",
      "KCNJ6             0.086080            18.913881  EN-ET-SP-P1\n",
      "UNC5C             0.022455             5.805472  EN-ET-SP-P1\n",
      "SATB2             0.507457            65.550190  EN-ET-SP-P1\n",
      "COL19A1           0.030775             7.994621  EN-ET-SP-P1\n",
      "SORCS1            0.883802            89.880407  EN-ET-SP-P1>\n"
     ]
    }
   ],
   "source": [
    "print(combined_df_cluster2.head)"
   ]
  },
  {
   "cell_type": "code",
   "execution_count": 283,
   "metadata": {},
   "outputs": [],
   "source": [
    "# Ensure the gene names are aligned and sorted\n",
    "combined_df_cluster1 = combined_df_cluster1.sort_index()\n",
    "combined_df_cluster2 = combined_df_cluster2.sort_index()"
   ]
  },
  {
   "cell_type": "code",
   "execution_count": 292,
   "metadata": {},
   "outputs": [
    {
     "name": "stdout",
     "output_type": "stream",
     "text": [
      "           mean expression  expressed cells (%)     cluster\n",
      "HCRTR2            0.719916            99.348880  EN-ET-SP-A\n",
      "NR4A2             1.420112            95.502347  EN-ET-SP-A\n",
      "MLIP              0.602727            76.952539  EN-ET-SP-A\n",
      "CYP26A1           0.673407            76.546547  EN-ET-SP-A\n",
      "ST18              0.335150            51.879494  EN-ET-SP-A\n",
      "STK32B            0.115034            23.180968  EN-ET-SP-A\n",
      "UNC5C             0.099511            20.335737  EN-ET-SP-A\n",
      "SLC26A4           0.034879             8.053096  EN-ET-SP-A\n",
      "ADRA2A            0.666940            74.267080  EN-ET-SP-A\n",
      "NPR3              0.318118            48.576838  EN-ET-SP-A\n",
      "SATB2             1.078556            89.094013  EN-ET-SP-A\n",
      "GABRA5            0.324419            51.031396  EN-ET-SP-A\n",
      "CCN2              0.184081            29.275232  EN-ET-SP-A\n",
      "COL19A1           0.080726            16.796708  EN-ET-SP-A\n",
      "NR2F1             0.216569            39.175540  EN-ET-SP-A\n",
      "KCNJ6             0.161767            30.732866  EN-ET-SP-A\n",
      "NR2F1-AS1         0.050431            11.665445  EN-ET-SP-A\n",
      "GLRA2             0.323478            50.916492  EN-ET-SP-A\n",
      "PCDH17            0.367110            52.571103  EN-ET-SP-A\n",
      "CALN1             0.539749            69.830709  EN-ET-SP-A\n",
      "SYT6              0.194792            35.029164  EN-ET-SP-A\n",
      "ADAMTSL3          0.023853             5.564614  EN-ET-SP-A\n",
      "KIF26B            0.082806            15.604994  EN-ET-SP-A\n",
      "RGS6              0.087321            17.231153  EN-ET-SP-A\n",
      "HS3ST1            0.023180             5.456276  EN-ET-SP-A\n",
      "SMOC1             0.091901            18.027818  EN-ET-SP-A\n",
      "ELOVL2            0.077923            16.599731  EN-ET-SP-A\n",
      "CCN1              0.010391             2.432672  EN-ET-SP-A\n",
      "SLC35F2           0.044227             9.718650  EN-ET-SP-A\n",
      "LRP4              0.021096             4.901457  EN-ET-SP-A\n",
      "SORCS1            0.337071            47.616025  EN-ET-SP-A\n",
      "LGR6              0.008685             2.060603  EN-ET-SP-A\n",
      "KCNQ5             0.073841            15.954082  EN-ET-SP-A\n",
      "LPL               0.059744            12.668936  EN-ET-SP-A\n",
      "VAT1L             0.086918            17.228964  EN-ET-SP-A\n",
      "NPNT              0.019967             4.648669  EN-ET-SP-A\n",
      "GRIK4             0.031833             7.354921  EN-ET-SP-A\n",
      "FOXP2             0.062269            13.205152  EN-ET-SP-A\n",
      "SEMA3E            0.070988            13.970081  EN-ET-SP-A\n",
      "KCNH5             0.016095             3.779779  EN-ET-SP-A\n"
     ]
    }
   ],
   "source": [
    "combined_df_cluster1 = combined_df_cluster1.loc[selected_genes['gene']]\n",
    "combined_df_cluster2 = combined_df_cluster2.loc[selected_genes['gene']]\n",
    "print(combined_df_cluster1)"
   ]
  },
  {
   "cell_type": "code",
   "execution_count": 293,
   "metadata": {},
   "outputs": [],
   "source": [
    "combined_df_cluster1.to_csv(\"combined_df_cluster1.csv\")\n",
    "combined_df_cluster2.to_csv(\"combined_df_cluster2.csv\")"
   ]
  }
 ],
 "metadata": {
  "kernelspec": {
   "display_name": "xuyuEnv",
   "language": "python",
   "name": "python3"
  },
  "language_info": {
   "codemirror_mode": {
    "name": "ipython",
    "version": 3
   },
   "file_extension": ".py",
   "mimetype": "text/x-python",
   "name": "python",
   "nbconvert_exporter": "python",
   "pygments_lexer": "ipython3",
   "version": "3.9.18"
  }
 },
 "nbformat": 4,
 "nbformat_minor": 2
}
