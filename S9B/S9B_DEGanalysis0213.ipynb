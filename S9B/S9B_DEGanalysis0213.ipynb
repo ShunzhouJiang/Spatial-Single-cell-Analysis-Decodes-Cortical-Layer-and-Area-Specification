{
 "cells": [
  {
   "cell_type": "code",
   "execution_count": 69,
   "metadata": {},
   "outputs": [],
   "source": [
    "import scanpy as sc\n",
    "import matplotlib.pyplot as plt\n",
    "import numpy as np\n",
    "import pandas as pd"
   ]
  },
  {
   "cell_type": "code",
   "execution_count": 70,
   "metadata": {},
   "outputs": [
    {
     "name": "stdout",
     "output_type": "stream",
     "text": [
      "AnnData object with n_obs × n_vars = 5577480 × 300\n",
      "    obs: 'gw', 'sample', 'region', 'H1_cluster', 'H2_cluster', 'H3_cluster', 'H1_annotation', 'H2_annotation', 'H3_annotation', 'area', 'layer'\n",
      "    obsm: 'spatial'\n"
     ]
    },
    {
     "name": "stderr",
     "output_type": "stream",
     "text": [
      "/Users/cyluo/anaconda3/envs/xuyuEnv/lib/python3.9/site-packages/anndata/_core/anndata.py:1897: UserWarning: Observation names are not unique. To make them unique, call `.obs_names_make_unique`.\n",
      "  utils.warn_names_duplicates(\"obs\")\n"
     ]
    }
   ],
   "source": [
    "adata_norm_exp = sc.read_h5ad(\"norm_exp.h5ad\")\n",
    "print(adata_norm_exp)"
   ]
  },
  {
   "cell_type": "code",
   "execution_count": 71,
   "metadata": {},
   "outputs": [
    {
     "name": "stdout",
     "output_type": "stream",
     "text": [
      "                       gw   sample region  H1_cluster  H2_cluster  H3_cluster  \\\n",
      "cell                                                                            \n",
      "2277265800298100216  gw15  UMB1367     O1           3          16          83   \n",
      "2277265800298100237  gw15  UMB1367     O1           3          16          82   \n",
      "2277265800298100240  gw15  UMB1367     O1           3          16          83   \n",
      "2277265800298100246  gw15  UMB1367     O1           3          16          83   \n",
      "2277265800298100291  gw15  UMB1367     O1           3          16          80   \n",
      "\n",
      "                    H1_annotation H2_annotation H3_annotation  area layer  \\\n",
      "cell                                                                        \n",
      "2277265800298100216        EN-Mig         EN-L2       EN-L2-3  B-V2    l4   \n",
      "2277265800298100237        EN-Mig         EN-L2       EN-IZ-3  B-V2    l4   \n",
      "2277265800298100240        EN-Mig         EN-L2       EN-L2-3  B-V2    l4   \n",
      "2277265800298100246        EN-Mig         EN-L2       EN-L2-3  B-V2    l4   \n",
      "2277265800298100291        EN-Mig         EN-L2       EN-L2-1  B-V2    l4   \n",
      "\n",
      "                    area_new  \n",
      "cell                          \n",
      "2277265800298100216       V2  \n",
      "2277265800298100237       V2  \n",
      "2277265800298100240       V2  \n",
      "2277265800298100246       V2  \n",
      "2277265800298100291       V2  \n"
     ]
    }
   ],
   "source": [
    "area_of_interest = ['V1', 'V2', 'A-V1', 'A-V2', 'B-V1', 'B-V2']\n",
    "adata_norm_exp_subset = adata_norm_exp[adata_norm_exp.obs['area'].isin(area_of_interest)].copy()\n",
    "adata_V1V2 = adata_norm_exp_subset[adata_norm_exp_subset.obs['gw'].isin(['gw15'])].copy()\n",
    "adata_V1V2 = adata_V1V2[adata_V1V2.obs['sample'].isin(['UMB1367'])].copy()\n",
    "adata_V1V2 = adata_V1V2[adata_V1V2.obs['region'].isin(['O1'])].copy()\n",
    "adata_V1V2 = adata_V1V2[adata_V1V2.obs['H1_annotation'].isin(['EN-Mig'])].copy()\n",
    "\n",
    "def transform_value(value):\n",
    "    if value == 'V1' or value == 'A-V1' or value == 'B-V1':\n",
    "        return 'V1'\n",
    "    elif value == 'V2' or value == 'A-V2' or value == 'B-V2':\n",
    "        return 'V2'\n",
    "\n",
    "# Create new column A based on column B\n",
    "adata_V1V2.obs['area_new'] = adata_V1V2.obs['area'].apply(transform_value)\n",
    "\n",
    "print(adata_V1V2.obs.head())"
   ]
  },
  {
   "cell_type": "code",
   "execution_count": 72,
   "metadata": {},
   "outputs": [
    {
     "name": "stdout",
     "output_type": "stream",
     "text": [
      "['V2', 'V1']\n",
      "Categories (2, object): ['V1', 'V2']\n"
     ]
    }
   ],
   "source": [
    "unique_count = adata_V1V2.obs['area_new'].unique()\n",
    "print(unique_count)"
   ]
  },
  {
   "cell_type": "code",
   "execution_count": 73,
   "metadata": {},
   "outputs": [
    {
     "name": "stdout",
     "output_type": "stream",
     "text": [
      "WARNING: Default of the method has been changed to 't-test' from 't-test_overestim_var'\n"
     ]
    }
   ],
   "source": [
    "# Perform DE analysis\n",
    "sc.tl.rank_genes_groups(adata_V1V2, groupby='area_new') "
   ]
  },
  {
   "cell_type": "code",
   "execution_count": 74,
   "metadata": {},
   "outputs": [
    {
     "name": "stderr",
     "output_type": "stream",
     "text": [
      "/Users/cyluo/anaconda3/envs/xuyuEnv/lib/python3.9/site-packages/pandas/core/arraylike.py:396: RuntimeWarning: divide by zero encountered in log10\n",
      "  result = getattr(ufunc, method)(*inputs, **kwargs)\n"
     ]
    }
   ],
   "source": [
    "result = adata_V1V2.uns['rank_genes_groups']\n",
    "de_df = pd.DataFrame({\n",
    "    'gene': result['names']['V1'], \n",
    "    'log_fold_change': result['logfoldchanges']['V1'],\n",
    "    'pvals': result['pvals']['V1'],\n",
    "    'pvals_adj': result['pvals_adj']['V1']\n",
    "})\n",
    "de_df['-log10_pval'] = -np.log10(de_df['pvals_adj'])"
   ]
  },
  {
   "cell_type": "code",
   "execution_count": 75,
   "metadata": {},
   "outputs": [],
   "source": [
    "de_df.to_csv('DEG_EN_Mig.csv')"
   ]
  }
 ],
 "metadata": {
  "kernelspec": {
   "display_name": "iStarnew",
   "language": "python",
   "name": "python3"
  },
  "language_info": {
   "codemirror_mode": {
    "name": "ipython",
    "version": 3
   },
   "file_extension": ".py",
   "mimetype": "text/x-python",
   "name": "python",
   "nbconvert_exporter": "python",
   "pygments_lexer": "ipython3",
   "version": "3.9.18"
  }
 },
 "nbformat": 4,
 "nbformat_minor": 2
}
