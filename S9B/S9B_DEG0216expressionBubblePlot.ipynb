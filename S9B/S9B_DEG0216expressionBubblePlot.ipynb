{
 "cells": [
  {
   "cell_type": "code",
   "execution_count": 42,
   "metadata": {},
   "outputs": [],
   "source": [
    "import scanpy as sc\n",
    "import matplotlib.pyplot as plt\n",
    "import numpy as np\n",
    "import pandas as pd\n",
    "from scipy.sparse import spmatrix"
   ]
  },
  {
   "cell_type": "code",
   "execution_count": 43,
   "metadata": {},
   "outputs": [
    {
     "name": "stdout",
     "output_type": "stream",
     "text": [
      "AnnData object with n_obs × n_vars = 5577480 × 300\n",
      "    obs: 'gw', 'sample', 'region', 'H1_cluster', 'H2_cluster', 'H3_cluster', 'H1_annotation', 'H2_annotation', 'H3_annotation', 'area', 'layer'\n",
      "    obsm: 'spatial'\n"
     ]
    },
    {
     "name": "stderr",
     "output_type": "stream",
     "text": [
      "/Users/cyluo/anaconda3/envs/xuyuEnv/lib/python3.9/site-packages/anndata/_core/anndata.py:1897: UserWarning: Observation names are not unique. To make them unique, call `.obs_names_make_unique`.\n",
      "  utils.warn_names_duplicates(\"obs\")\n"
     ]
    }
   ],
   "source": [
    "adata_norm_exp = sc.read_h5ad(\"norm_exp.h5ad\")\n",
    "print(adata_norm_exp)"
   ]
  },
  {
   "cell_type": "code",
   "execution_count": 111,
   "metadata": {},
   "outputs": [
    {
     "name": "stdout",
     "output_type": "stream",
     "text": [
      "                       gw   sample region  H1_cluster  H2_cluster  H3_cluster  \\\n",
      "cell                                                                            \n",
      "2277265800298100216  gw15  UMB1367     O1           3          16          83   \n",
      "2277265800298100237  gw15  UMB1367     O1           3          16          82   \n",
      "2277265800298100240  gw15  UMB1367     O1           3          16          83   \n",
      "2277265800298100246  gw15  UMB1367     O1           3          16          83   \n",
      "2277265800298100291  gw15  UMB1367     O1           3          16          80   \n",
      "\n",
      "                    H1_annotation H2_annotation H3_annotation  area layer  \\\n",
      "cell                                                                        \n",
      "2277265800298100216        EN-Mig         EN-L2       EN-L2-3  B-V2    l4   \n",
      "2277265800298100237        EN-Mig         EN-L2       EN-IZ-3  B-V2    l4   \n",
      "2277265800298100240        EN-Mig         EN-L2       EN-L2-3  B-V2    l4   \n",
      "2277265800298100246        EN-Mig         EN-L2       EN-L2-3  B-V2    l4   \n",
      "2277265800298100291        EN-Mig         EN-L2       EN-L2-1  B-V2    l4   \n",
      "\n",
      "                    area_new  \n",
      "cell                          \n",
      "2277265800298100216       V2  \n",
      "2277265800298100237       V2  \n",
      "2277265800298100240       V2  \n",
      "2277265800298100246       V2  \n",
      "2277265800298100291       V2  \n"
     ]
    }
   ],
   "source": [
    "area_of_interest = ['V1', 'V2', 'A-V1', 'A-V2', 'B-V1', 'B-V2']\n",
    "adata_norm_exp_subset = adata_norm_exp[adata_norm_exp.obs['area'].isin(area_of_interest)].copy()\n",
    "adata_V1V2 = adata_norm_exp_subset[adata_norm_exp_subset.obs['gw'].isin(['gw15'])].copy()\n",
    "adata_V1V2 = adata_V1V2[adata_V1V2.obs['sample'].isin(['UMB1367'])].copy()\n",
    "adata_V1V2 = adata_V1V2[adata_V1V2.obs['region'].isin(['O1'])].copy()\n",
    "adata_V1V2 = adata_V1V2[adata_V1V2.obs['H1_annotation'].isin(['EN-Mig'])].copy()\n",
    "\n",
    "def transform_value(value):\n",
    "    if value == 'V1' or value == 'A-V1' or value == 'B-V1':\n",
    "        return 'V1'\n",
    "    elif value == 'V2' or value == 'A-V2' or value == 'B-V2':\n",
    "        return 'V2'\n",
    "\n",
    "# Create new column A based on column B\n",
    "adata_V1V2.obs['area_new'] = adata_V1V2.obs['area'].apply(transform_value)\n",
    "\n",
    "print(adata_V1V2.obs.head())"
   ]
  },
  {
   "cell_type": "code",
   "execution_count": 112,
   "metadata": {},
   "outputs": [],
   "source": [
    "areas_of_interest = ['V1', 'V2']\n",
    "adata_V1 = adata_V1V2[adata_V1V2.obs['area_new'] == areas_of_interest[0]].copy()\n",
    "adata_V2 = adata_V1V2[adata_V1V2.obs['area_new']== areas_of_interest[1]].copy()"
   ]
  },
  {
   "cell_type": "code",
   "execution_count": 113,
   "metadata": {},
   "outputs": [
    {
     "name": "stdout",
     "output_type": "stream",
     "text": [
      "[[0.         0.         0.         ... 0.         0.         0.07575758]\n",
      " [0.         0.         0.         ... 0.         0.         0.        ]\n",
      " [0.         0.         0.         ... 0.         0.         0.0862069 ]\n",
      " ...\n",
      " [0.         0.         0.         ... 0.         0.         0.        ]\n",
      " [0.         0.         0.         ... 0.         0.02035623 0.03816794]\n",
      " [0.         0.         0.         ... 0.         0.         0.        ]]\n"
     ]
    }
   ],
   "source": [
    "print(adata_V1.X)"
   ]
  },
  {
   "cell_type": "code",
   "execution_count": 114,
   "metadata": {},
   "outputs": [],
   "source": [
    "dense_X = adata_V1.X\n",
    "mean_expression = np.mean(dense_X, axis=0)\n",
    "\n",
    "dense_X2 = adata_V2.X\n",
    "mean_expression2 = np.mean(dense_X2, axis=0)"
   ]
  },
  {
   "cell_type": "code",
   "execution_count": 115,
   "metadata": {},
   "outputs": [],
   "source": [
    "expression_threshold = 0  \n",
    "expressed_genes_mask = dense_X > expression_threshold\n",
    "num_cells_expressing = np.sum(expressed_genes_mask, axis=0)\n",
    "\n",
    "expressed_genes_mask2 = dense_X2 > expression_threshold\n",
    "num_cells_expressing2 = np.sum(expressed_genes_mask2, axis=0)\n",
    "\n",
    "genes_expressed_per_cell = np.sum(expressed_genes_mask, axis=1)\n",
    "total_expressed_cells = np.sum(genes_expressed_per_cell > 0)\n",
    "percent_expressed = num_cells_expressing / total_expressed_cells * 100\n",
    "\n",
    "genes_expressed_per_cell2 = np.sum(expressed_genes_mask2, axis=1)\n",
    "total_expressed_cells2 = np.sum(genes_expressed_per_cell2 > 0)\n",
    "percent_expressed2 = num_cells_expressing2 / total_expressed_cells2 * 100"
   ]
  },
  {
   "cell_type": "code",
   "execution_count": 116,
   "metadata": {},
   "outputs": [],
   "source": [
    "gene_names = adata_V1.var_names\n",
    "mean_expression_per_gene = pd.Series(mean_expression, index=gene_names)\n",
    "percent_expressed_per_gene = pd.Series(percent_expressed, index=gene_names)\n",
    "percent_expressed_per_gene = percent_expressed_per_gene.to_frame(name='expressed cells (%)')\n",
    "\n",
    "gene_names2 = adata_V2.var_names\n",
    "mean_expression_per_gene2 = pd.Series(mean_expression2, index=gene_names)\n",
    "percent_expressed_per_gene2 = pd.Series(percent_expressed2, index=gene_names)\n",
    "percent_expressed_per_gene2 = percent_expressed_per_gene2.to_frame(name='expressed cells (%)')"
   ]
  },
  {
   "cell_type": "code",
   "execution_count": 117,
   "metadata": {},
   "outputs": [
    {
     "name": "stdout",
     "output_type": "stream",
     "text": [
      "HS3ST1      0.015913\n",
      "CD9         0.000316\n",
      "CBLN4       0.000536\n",
      "CA12        0.002204\n",
      "LGALS1      0.000389\n",
      "              ...   \n",
      "SORCS1      0.001617\n",
      "ANGPT2      0.000358\n",
      "PAX6        0.005303\n",
      "POU3F4      0.002339\n",
      "NIPBL-DT    0.013101\n",
      "Length: 300, dtype: float32\n",
      "          expressed cells (%)\n",
      "HS3ST1              26.498035\n",
      "CD9                  0.749018\n",
      "CBLN4                0.773576\n",
      "CA12                 3.929273\n",
      "LGALS1               1.006876\n",
      "...                       ...\n",
      "SORCS1               3.511788\n",
      "ANGPT2               1.092829\n",
      "PAX6                11.272102\n",
      "POU3F4               5.194008\n",
      "NIPBL-DT            27.234774\n",
      "\n",
      "[300 rows x 1 columns]\n"
     ]
    }
   ],
   "source": [
    "print(mean_expression_per_gene)\n",
    "print(percent_expressed_per_gene)"
   ]
  },
  {
   "cell_type": "code",
   "execution_count": 128,
   "metadata": {},
   "outputs": [
    {
     "name": "stdout",
     "output_type": "stream",
     "text": [
      "     Unnamed: 0       gene  log_fold_change          pvals      pvals_adj  \\\n",
      "3             3      OPCML         1.670981  4.309595e-150  1.292879e-148   \n",
      "1             1     PRSS12         1.335705  9.504131e-271  9.504131e-269   \n",
      "24           24      CPNE8         1.224906   5.370746e-13   2.335107e-12   \n",
      "14           14       DIO2         1.197640   4.635129e-27   3.476347e-26   \n",
      "6             6      FEZF2         1.078703   9.582220e-87   1.796666e-85   \n",
      "64           64       LGR6         1.014866   1.006330e-03   2.141127e-03   \n",
      "10           10  LINC01089         1.011572   1.207163e-40   1.248790e-39   \n",
      "7             7      SMOC1         0.997914   2.149096e-85   3.792522e-84   \n",
      "4             4      SCN3B         0.803540  9.556271e-141  2.606256e-139   \n",
      "58           58       TPBG         0.744806   1.235640e-04   2.918834e-04   \n",
      "20           20      TTYH2         0.736422   2.019620e-17   1.044631e-16   \n",
      "15           15       SYBU         0.731538   1.312953e-22   8.951951e-22   \n",
      "17           17      TSHZ3         0.728197   1.130776e-21   7.217719e-21   \n",
      "44           44    SLC35F2         0.726382   2.311000e-06   6.666345e-06   \n",
      "83           83   RORB-AS1         0.707297   2.166540e-02   3.714068e-02   \n",
      "2             2      INSM1         0.702201  4.868005e-169  2.086288e-167   \n",
      "27           27      PTK2B         0.699878   2.521610e-11   9.953724e-11   \n",
      "19           19     SPOCK1         0.682210   2.128605e-19   1.204871e-18   \n",
      "31           31     TRIM67         0.681699   1.197413e-09   4.226163e-09   \n",
      "11           11       NEFM         0.661488   4.064821e-37   3.810770e-36   \n",
      "245         245       GRM7        -0.882506   3.664686e-07   1.157269e-06   \n",
      "259         259        NPY        -0.885272   2.823546e-16   1.366232e-15   \n",
      "294         294       CUX1        -0.900175  2.087470e-156  6.958234e-155   \n",
      "281         281      TAFA1        -0.920365   2.848141e-39   2.775016e-38   \n",
      "270         270        SP9        -0.943858   3.055148e-21   1.909468e-20   \n",
      "298         298       SOX5        -0.997522  3.591940e-226  2.693955e-224   \n",
      "243         243      BEST3        -1.015425   5.904144e-07   1.826024e-06   \n",
      "262         262        SST        -1.055173   6.670703e-17   3.391883e-16   \n",
      "257         257    NEUROG1        -1.100085   4.649483e-14   2.134831e-13   \n",
      "280         280     SORCS1        -1.179478   2.867516e-39   2.775016e-38   \n",
      "234         234      CBLN2        -1.180265   5.247645e-05   1.279913e-04   \n",
      "287         287      FSTL5        -1.182984   1.541069e-54   2.101458e-53   \n",
      "256         256    SPARCL1        -1.293813   4.240914e-13   1.870992e-12   \n",
      "289         289       PENK        -1.327689   1.417476e-67   2.126214e-66   \n",
      "292         292     CLSTN2        -1.366776  3.877698e-123  8.948533e-122   \n",
      "295         295      PEX5L        -1.493306  1.248713e-161  4.682674e-160   \n",
      "278         278   CCDC144A        -1.510794   3.467292e-34   2.971965e-33   \n",
      "277         277      PVALB        -1.593271   2.442261e-31   2.035218e-30   \n",
      "288         288      MEIS1        -1.647408   3.645558e-63   5.207940e-62   \n",
      "276         276       EML6        -1.720412   4.125931e-30   3.345349e-29   \n",
      "\n",
      "     -log10_pval  \n",
      "3     147.888442  \n",
      "1     268.022088  \n",
      "24     11.631693  \n",
      "14     25.458877  \n",
      "6      84.745533  \n",
      "64      2.669357  \n",
      "10     38.903511  \n",
      "7      83.421072  \n",
      "4     138.583983  \n",
      "58      3.534791  \n",
      "20     15.981037  \n",
      "15     21.048082  \n",
      "17     20.141600  \n",
      "44      5.176112  \n",
      "83      1.430150  \n",
      "2     166.680626  \n",
      "27     10.002014  \n",
      "19     17.919060  \n",
      "31      8.374054  \n",
      "11     35.418987  \n",
      "245     5.936566  \n",
      "259    14.864476  \n",
      "294   154.157501  \n",
      "281    37.556735  \n",
      "270    19.719088  \n",
      "298   223.569610  \n",
      "243     5.738494  \n",
      "262    15.469559  \n",
      "257    12.670637  \n",
      "280    37.556735  \n",
      "234     3.892819  \n",
      "287    52.677479  \n",
      "256    11.727928  \n",
      "289    65.672393  \n",
      "292   121.048248  \n",
      "295   159.329506  \n",
      "278    32.526956  \n",
      "277    29.691389  \n",
      "288    61.283334  \n",
      "276    28.475559  \n"
     ]
    }
   ],
   "source": [
    "de_df = pd.read_csv('DEG_EN_Mig.csv')\n",
    "# Sort by log fold change\n",
    "sorted_de_df = de_df.sort_values(by=['log_fold_change', '-log10_pval'], ascending=[False, False])\n",
    "# Select top 10/20 and bottom 10/20 genes\n",
    "N = 20\n",
    "top_genes = sorted_de_df.head(N)\n",
    "bottom_genes = sorted_de_df.tail(N)\n",
    "# Combine top and bottom genes\n",
    "selected_genes = pd.concat([top_genes, bottom_genes])\n",
    "print(selected_genes)"
   ]
  },
  {
   "cell_type": "code",
   "execution_count": 129,
   "metadata": {},
   "outputs": [],
   "source": [
    "# Assuming mean_expression_per_gene is a pandas Series and selected_genes is a pandas DataFrame\n",
    "selected_gene_names = selected_genes['gene']\n",
    "filtered_mean_expression = mean_expression_per_gene[mean_expression_per_gene.index.isin(selected_gene_names)]\n",
    "filtered_mean_expression2 = mean_expression_per_gene2[mean_expression_per_gene2.index.isin(selected_gene_names)]\n",
    "filtered_percent_expressed_per_gene = percent_expressed_per_gene[percent_expressed_per_gene.index.isin(selected_gene_names)]\n",
    "filtered_percent_expressed_per_gene2 = percent_expressed_per_gene2[percent_expressed_per_gene2.index.isin(selected_gene_names)]"
   ]
  },
  {
   "cell_type": "code",
   "execution_count": 130,
   "metadata": {},
   "outputs": [
    {
     "name": "stdout",
     "output_type": "stream",
     "text": [
      "       mean expression\n",
      "TSHZ3         0.006921\n",
      "NPY           0.000598\n",
      "LGR6          0.000608\n",
      "BEST3         0.000353\n",
      "TTYH2         0.003199\n",
      "       mean expression\n",
      "TSHZ3         0.004184\n",
      "NPY           0.001105\n",
      "LGR6          0.000301\n",
      "BEST3         0.000714\n",
      "TTYH2         0.001922\n"
     ]
    }
   ],
   "source": [
    "df_mean_expression = filtered_mean_expression.to_frame(name='mean expression')\n",
    "print(df_mean_expression.head())\n",
    "\n",
    "df_mean_expression2 = filtered_mean_expression2.to_frame(name='mean expression')\n",
    "print(df_mean_expression2.head())"
   ]
  },
  {
   "cell_type": "code",
   "execution_count": 131,
   "metadata": {},
   "outputs": [
    {
     "data": {
      "text/plain": [
       "40"
      ]
     },
     "execution_count": 131,
     "metadata": {},
     "output_type": "execute_result"
    }
   ],
   "source": [
    "len(df_mean_expression)"
   ]
  },
  {
   "cell_type": "code",
   "execution_count": 132,
   "metadata": {},
   "outputs": [
    {
     "name": "stdout",
     "output_type": "stream",
     "text": [
      "           mean expression  expressed cells (%)\n",
      "TSHZ3             0.006921            11.161591\n",
      "NPY               0.000598             2.320727\n",
      "LGR6              0.000608             0.834971\n",
      "BEST3             0.000353             0.626228\n",
      "TTYH2             0.003199             8.521611\n",
      "SPOCK1            0.006885            10.694990\n",
      "SPARCL1           0.000184             0.810413\n",
      "FEZF2             0.017335            24.459725\n",
      "SST               0.000463             1.706778\n",
      "CUX1              0.009369            22.679273\n",
      "PRSS12            0.020628            47.482809\n",
      "SCN3B             0.036336            48.710707\n",
      "INSM1             0.036947            64.390963\n",
      "NEUROG1           0.000543             1.215619\n",
      "PENK              0.001106             4.027505\n",
      "CPNE8             0.001525             2.983792\n",
      "PTK2B             0.003703             6.078094\n",
      "FSTL5             0.001969             4.150295\n",
      "SMOC1             0.008446            25.503438\n",
      "PEX5L             0.003638             7.416503\n",
      "SP9               0.000680             2.689096\n",
      "MEIS1             0.000778             2.001473\n",
      "RORB-AS1          0.000599             0.699902\n",
      "PVALB             0.000819             1.043713\n",
      "NEFM              0.011113            22.617878\n",
      "DIO2              0.001949             6.802554\n",
      "SOX5              0.013760            26.313851\n",
      "TRIM67            0.002403             4.899312\n",
      "CLSTN2            0.003204             6.692043\n",
      "EML6              0.000443             0.798134\n",
      "TAFA1             0.003128             6.028978\n",
      "CCDC144A          0.001019             1.338409\n",
      "GRM7              0.000575             0.970039\n",
      "SLC35F2           0.001778             2.996071\n",
      "SYBU              0.004663            12.143910\n",
      "LINC01089         0.006929            12.929764\n",
      "TPBG              0.001183             1.890963\n",
      "CBLN2             0.000125             0.319253\n",
      "OPCML             0.011867            23.624754\n",
      "SORCS1            0.001617             3.511788\n"
     ]
    }
   ],
   "source": [
    "combined_df_V1 = df_mean_expression.join(filtered_percent_expressed_per_gene, how='inner')\n",
    "combined_df_V2 = df_mean_expression2.join(filtered_percent_expressed_per_gene2, how='inner')\n",
    "print(combined_df_V1)"
   ]
  },
  {
   "cell_type": "code",
   "execution_count": 133,
   "metadata": {},
   "outputs": [],
   "source": [
    "combined_df_V1['area'] = areas_of_interest[0]\n",
    "combined_df_V2['area'] = areas_of_interest[1]"
   ]
  },
  {
   "cell_type": "code",
   "execution_count": 134,
   "metadata": {},
   "outputs": [
    {
     "name": "stdout",
     "output_type": "stream",
     "text": [
      "<bound method NDFrame.head of            mean expression  expressed cells (%) area\n",
      "TSHZ3             0.004184             6.673261   V2\n",
      "NPY               0.001105             3.942488   V2\n",
      "LGR6              0.000301             0.427456   V2\n",
      "BEST3             0.000714             1.158724   V2\n",
      "TTYH2             0.001922             5.140071   V2\n",
      "SPOCK1            0.004296             6.468365   V2\n",
      "SPARCL1           0.000452             1.692161   V2\n",
      "FEZF2             0.008245            13.339457   V2\n",
      "SST               0.000962             3.726993   V2\n",
      "CUX1              0.017415            35.726145   V2\n",
      "PRSS12            0.008224            23.216872   V2\n",
      "SCN3B             0.020980            32.960045   V2\n",
      "INSM1             0.022870            45.702476   V2\n",
      "NEUROG1           0.001163             2.497615   V2\n",
      "PENK              0.002773             8.824672   V2\n",
      "CPNE8             0.000653             1.190518   V2\n",
      "PTK2B             0.002281             3.539760   V2\n",
      "FSTL5             0.004464             8.534991   V2\n",
      "SMOC1             0.004238            13.116897   V2\n",
      "PEX5L             0.010207            17.539831   V2\n",
      "SP9               0.001307             5.108277   V2\n",
      "MEIS1             0.002434             5.768891   V2\n",
      "RORB-AS1          0.000367             0.519306   V2\n",
      "PVALB             0.002470             3.066379   V2\n",
      "NEFM              0.007040            14.303882   V2\n",
      "DIO2              0.000850             3.133501   V2\n",
      "SOX5              0.027287            43.141272   V2\n",
      "TRIM67            0.001499             2.794362   V2\n",
      "CLSTN2            0.008241            15.148197   V2\n",
      "EML6              0.001458             2.384569   V2\n",
      "TAFA1             0.005912             9.704313   V2\n",
      "CCDC144A          0.002900             3.606882   V2\n",
      "GRM7              0.001059             1.575582   V2\n",
      "SLC35F2           0.001075             1.572049   V2\n",
      "SYBU              0.002811             7.136044   V2\n",
      "LINC01089         0.003443             6.712121   V2\n",
      "TPBG              0.000706             1.066874   V2\n",
      "CBLN2             0.000283             0.572297   V2\n",
      "OPCML             0.003742             8.358357   V2\n",
      "SORCS1            0.003659             5.761826   V2>\n"
     ]
    }
   ],
   "source": [
    "print(combined_df_V2.head)"
   ]
  },
  {
   "cell_type": "code",
   "execution_count": 135,
   "metadata": {},
   "outputs": [],
   "source": [
    "# Ensure the gene names are aligned and sorted\n",
    "combined_df_V1 = combined_df_V1.sort_index()\n",
    "combined_df_V2 = combined_df_V2.sort_index()"
   ]
  },
  {
   "cell_type": "code",
   "execution_count": 136,
   "metadata": {},
   "outputs": [
    {
     "name": "stdout",
     "output_type": "stream",
     "text": [
      "           mean expression  expressed cells (%) area\n",
      "OPCML             0.011867            23.624754   V1\n",
      "PRSS12            0.020628            47.482809   V1\n",
      "CPNE8             0.001525             2.983792   V1\n",
      "DIO2              0.001949             6.802554   V1\n",
      "FEZF2             0.017335            24.459725   V1\n",
      "LGR6              0.000608             0.834971   V1\n",
      "LINC01089         0.006929            12.929764   V1\n",
      "SMOC1             0.008446            25.503438   V1\n",
      "SCN3B             0.036336            48.710707   V1\n",
      "TPBG              0.001183             1.890963   V1\n",
      "TTYH2             0.003199             8.521611   V1\n",
      "SYBU              0.004663            12.143910   V1\n",
      "TSHZ3             0.006921            11.161591   V1\n",
      "SLC35F2           0.001778             2.996071   V1\n",
      "RORB-AS1          0.000599             0.699902   V1\n",
      "INSM1             0.036947            64.390963   V1\n",
      "PTK2B             0.003703             6.078094   V1\n",
      "SPOCK1            0.006885            10.694990   V1\n",
      "TRIM67            0.002403             4.899312   V1\n",
      "NEFM              0.011113            22.617878   V1\n",
      "GRM7              0.000575             0.970039   V1\n",
      "NPY               0.000598             2.320727   V1\n",
      "CUX1              0.009369            22.679273   V1\n",
      "TAFA1             0.003128             6.028978   V1\n",
      "SP9               0.000680             2.689096   V1\n",
      "SOX5              0.013760            26.313851   V1\n",
      "BEST3             0.000353             0.626228   V1\n",
      "SST               0.000463             1.706778   V1\n",
      "NEUROG1           0.000543             1.215619   V1\n",
      "SORCS1            0.001617             3.511788   V1\n",
      "CBLN2             0.000125             0.319253   V1\n",
      "FSTL5             0.001969             4.150295   V1\n",
      "SPARCL1           0.000184             0.810413   V1\n",
      "PENK              0.001106             4.027505   V1\n",
      "CLSTN2            0.003204             6.692043   V1\n",
      "PEX5L             0.003638             7.416503   V1\n",
      "CCDC144A          0.001019             1.338409   V1\n",
      "PVALB             0.000819             1.043713   V1\n",
      "MEIS1             0.000778             2.001473   V1\n",
      "EML6              0.000443             0.798134   V1\n"
     ]
    }
   ],
   "source": [
    "combined_df_V1 = combined_df_V1.loc[selected_genes['gene']]\n",
    "combined_df_V2 = combined_df_V2.loc[selected_genes['gene']]\n",
    "print(combined_df_V1)"
   ]
  },
  {
   "cell_type": "code",
   "execution_count": 137,
   "metadata": {},
   "outputs": [],
   "source": [
    "combined_df_V1.to_csv(\"combined_df_V1.csv\")\n",
    "combined_df_V2.to_csv(\"combined_df_V2.csv\")"
   ]
  }
 ],
 "metadata": {
  "kernelspec": {
   "display_name": "xuyuEnv",
   "language": "python",
   "name": "python3"
  },
  "language_info": {
   "codemirror_mode": {
    "name": "ipython",
    "version": 3
   },
   "file_extension": ".py",
   "mimetype": "text/x-python",
   "name": "python",
   "nbconvert_exporter": "python",
   "pygments_lexer": "ipython3",
   "version": "3.9.18"
  }
 },
 "nbformat": 4,
 "nbformat_minor": 2
}
